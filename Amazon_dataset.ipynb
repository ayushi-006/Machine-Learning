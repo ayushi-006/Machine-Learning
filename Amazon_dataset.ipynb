{
  "nbformat": 4,
  "nbformat_minor": 0,
  "metadata": {
    "colab": {
      "provenance": [],
      "authorship_tag": "ABX9TyN7Hy/ClYx27nA+CvA43kNG",
      "include_colab_link": true
    },
    "kernelspec": {
      "name": "python3",
      "display_name": "Python 3"
    },
    "language_info": {
      "name": "python"
    }
  },
  "cells": [
    {
      "cell_type": "markdown",
      "metadata": {
        "id": "view-in-github",
        "colab_type": "text"
      },
      "source": [
        "<a href=\"https://colab.research.google.com/github/ayushi-006/Machine-Learning/blob/main/Amazon_dataset.ipynb\" target=\"_parent\"><img src=\"https://colab.research.google.com/assets/colab-badge.svg\" alt=\"Open In Colab\"/></a>"
      ]
    },
    {
      "cell_type": "code",
      "execution_count": 1,
      "metadata": {
        "id": "HI8v5__3xGLn"
      },
      "outputs": [],
      "source": [
        "import pandas as pd\n",
        "import numpy as np\n",
        "import matplotlib.pyplot as plt\n",
        "import seaborn as sns"
      ]
    },
    {
      "cell_type": "markdown",
      "source": [
        "Download the data set"
      ],
      "metadata": {
        "id": "htZrcMhIzN_T"
      }
    },
    {
      "cell_type": "code",
      "source": [
        "data_url = \"/content/BestSeller Books of Amazon.csv\"\n",
        "data = pd.read_csv(data_url)"
      ],
      "metadata": {
        "id": "emyOdlg6zQOV"
      },
      "execution_count": 2,
      "outputs": []
    }
  ]
}